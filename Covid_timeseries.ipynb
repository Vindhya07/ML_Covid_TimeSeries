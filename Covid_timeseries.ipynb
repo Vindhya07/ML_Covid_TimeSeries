{
  "nbformat": 4,
  "nbformat_minor": 0,
  "metadata": {
    "colab": {
      "name": "Covid_timeseries.ipynb",
      "provenance": [],
      "collapsed_sections": [],
      "authorship_tag": "ABX9TyPTAXuQ1Zfgadp7aIo4tzWJ",
      "include_colab_link": true
    },
    "kernelspec": {
      "name": "python3",
      "display_name": "Python 3"
    },
    "language_info": {
      "name": "python"
    }
  },
  "cells": [
    {
      "cell_type": "markdown",
      "metadata": {
        "id": "view-in-github",
        "colab_type": "text"
      },
      "source": [
        "<a href=\"https://colab.research.google.com/github/Vindhya07/ML_Covid_TimeSeries/blob/main/Covid_timeseries.ipynb\" target=\"_parent\"><img src=\"https://colab.research.google.com/assets/colab-badge.svg\" alt=\"Open In Colab\"/></a>"
      ]
    },
    {
      "cell_type": "code",
      "metadata": {
        "id": "YDmtgGvlYG1O"
      },
      "source": [
        "import pandas as pd\n",
        "import numpy as np\n",
        "import matplotlib.pyplot as plt\n",
        "import math"
      ],
      "execution_count": 12,
      "outputs": []
    },
    {
      "cell_type": "code",
      "metadata": {
        "colab": {
          "base_uri": "https://localhost:8080/"
        },
        "id": "l1goFumqYQ7c",
        "outputId": "a67a2d54-5ce1-4589-c189-19667a7e753c"
      },
      "source": [
        "df = pd.read_csv('whac.csv')\n",
        "df.head()\n",
        "print(df.shape)\n",
        "\n",
        "df2 = pd.read_csv('c19.csv')\n",
        "print(df2.head())\n",
        "print(df2.shape)\n",
        "\n"
      ],
      "execution_count": 91,
      "outputs": [
        {
          "output_type": "stream",
          "name": "stdout",
          "text": [
            "(2096, 4)\n",
            "               X             Y  ... Aged75to84  Aged85up\n",
            "0 -856335.869598  7.036492e+06  ...        NaN       NaN\n",
            "1 -856335.869598  7.036492e+06  ...        NaN       NaN\n",
            "2 -856335.869598  7.036492e+06  ...        0.0       0.0\n",
            "3 -856335.869598  7.036492e+06  ...        0.0       0.0\n",
            "4 -856335.869598  7.036492e+06  ...        0.0       0.0\n",
            "\n",
            "[5 rows x 41 columns]\n",
            "(639, 41)\n"
          ]
        }
      ]
    },
    {
      "cell_type": "code",
      "metadata": {
        "colab": {
          "base_uri": "https://localhost:8080/"
        },
        "id": "7V6jGLz5XAbZ",
        "outputId": "d5b68d80-9776-48d1-e64e-4e7476b9f2fe"
      },
      "source": [
        "df_Ireland = df.loc[df['Entity'] == 'Ireland'].reset_index()\n",
        "# df_Ireland = df_Ireland.reset_index()\n",
        "print(df_Ireland.shape)\n",
        "\n"
      ],
      "execution_count": 82,
      "outputs": [
        {
          "output_type": "stream",
          "name": "stdout",
          "text": [
            "(84, 5)\n"
          ]
        }
      ]
    },
    {
      "cell_type": "code",
      "metadata": {
        "colab": {
          "base_uri": "https://localhost:8080/"
        },
        "id": "Nqdy4YmtW72m",
        "outputId": "20c16424-89f9-4a80-f447-dc9a06d6cc30"
      },
      "source": [
        "print(df_Ireland)"
      ],
      "execution_count": 4,
      "outputs": [
        {
          "output_type": "stream",
          "name": "stdout",
          "text": [
            "    index   Entity Code         Day  Weekly new hospital admissions\n",
            "0     838  Ireland  IRL  2020-04-12                         493.830\n",
            "1     839  Ireland  IRL  2020-04-19                         349.294\n",
            "2     840  Ireland  IRL  2020-04-26                         306.134\n",
            "3     841  Ireland  IRL  2020-05-03                         261.971\n",
            "4     842  Ireland  IRL  2020-05-10                         162.603\n",
            "..    ...      ...  ...         ...                             ...\n",
            "79    917  Ireland  IRL  2021-10-24                         357.324\n",
            "80    918  Ireland  IRL  2021-10-31                         406.506\n",
            "81    919  Ireland  IRL  2021-11-07                         373.384\n",
            "82    920  Ireland  IRL  2021-11-14                         509.889\n",
            "83    921  Ireland  IRL  2021-11-21                         549.034\n",
            "\n",
            "[84 rows x 5 columns]\n"
          ]
        }
      ]
    },
    {
      "cell_type": "code",
      "metadata": {
        "colab": {
          "base_uri": "https://localhost:8080/"
        },
        "id": "BCCexVhRXN1F",
        "outputId": "23452358-f25b-4e38-d926-f8ce5bd6c4bf"
      },
      "source": [
        "# df_Ireland['Day'] = pd.to_datetime(df_Ireland['Day'])\n",
        "# for index, row in df_Ireland.iterrows():\n",
        "#     print(index, row['Day'], row['Entity'], row['Weekly new hospital admissions'])\n",
        "\n",
        "# print(df_Ireland.dtypes)\n",
        "\n",
        "\n",
        "df2['Date'] = pd.to_datetime(df2['Date'])\n",
        "df2['HCC'] = df2['HospitalisedCovidCases'].fillna(0)\n",
        "\n",
        "# for index, row in df2.iterrows():\n",
        "#     print(index, row['Date'], row['HCC'])\n",
        "\n",
        "prev_num = 0\n",
        "df2['new_HCC'] = df2['HCC']\n",
        "for index,row in df2.iterrows():\n",
        "  df2.at[index, 'new_HCC'] = row['HCC'] - prev_num\n",
        "  prev_num = row['HCC']\n",
        "  # print(index, row['Date'], row['HCC'], row['new_HCC'])\n",
        "\n",
        "print(df2['new_HCC'])\n",
        "\n",
        "\n",
        "\n",
        "\n"
      ],
      "execution_count": 112,
      "outputs": [
        {
          "output_type": "stream",
          "name": "stdout",
          "text": [
            "0       0.0\n",
            "1       0.0\n",
            "2       0.0\n",
            "3       1.0\n",
            "4       3.0\n",
            "       ... \n",
            "634    26.0\n",
            "635    39.0\n",
            "636    41.0\n",
            "637    19.0\n",
            "638     8.0\n",
            "Name: new_HCC, Length: 639, dtype: float64\n"
          ]
        }
      ]
    },
    {
      "cell_type": "code",
      "metadata": {
        "colab": {
          "base_uri": "https://localhost:8080/",
          "height": 269
        },
        "id": "akOeohwK6JMj",
        "outputId": "81de15a4-942e-4d3e-83a7-c3676def4621"
      },
      "source": [
        "i_range = []\n",
        "for i in range(639):\n",
        "  i_range.append(i)\n",
        "\n",
        "plt.plot(i_range, df2['new_HCC'])\n",
        "plt.show()"
      ],
      "execution_count": 113,
      "outputs": [
        {
          "output_type": "display_data",
          "data": {
            "image/png": "[encoded data removed]",
            "text/plain": [
              "<Figure size 432x288 with 1 Axes>"
            ]
          },
          "metadata": {
            "needs_background": "light"
          }
        }
      ]
    },
    {
      "cell_type": "code",
      "metadata": {
        "colab": {
          "base_uri": "https://localhost:8080/"
        },
        "id": "qs5WCbphUR2E",
        "outputId": "44c784df-fa84-47aa-a38f-ab1089c24a68"
      },
      "source": [
        "print(\"\")"
      ],
      "execution_count": 115,
      "outputs": [
        {
          "output_type": "stream",
          "name": "stdout",
          "text": [
            "\n"
          ]
        }
      ]
    },
    {
      "cell_type": "code",
      "metadata": {
        "colab": {
          "base_uri": "https://localhost:8080/"
        },
        "id": "CWlPf8u07JIs",
        "outputId": "682bec2a-c877-46ab-eb41-30e997c0290e"
      },
      "source": [
        "start=pd.to_datetime('2020-12-13 00:00:00')\n",
        "print(\"Start: \", start)\n",
        "end=pd.to_datetime('2021-04-18 00:00:00')\n",
        "print(\"End: \", end)\n",
        "t_full=pd.array(pd.DatetimeIndex(df_Ireland.iloc[35:53,3]).astype(np.int64))/1000000000\n",
        "print(\"Tfull: \", t_full)\n",
        "dt = t_full[1] - t_full[0] \n",
        "print(\"Data sampling interval in seconds:\", dt)"
      ],
      "execution_count": 49,
      "outputs": [
        {
          "output_type": "stream",
          "name": "stdout",
          "text": [
            "Start:  2020-12-13 00:00:00\n",
            "End:  2021-04-18 00:00:00\n",
            "Tfull:  <PandasArray>\n",
            "[1607817600.0, 1608422400.0, 1609027200.0, 1609632000.0, 1610236800.0,\n",
            " 1610841600.0, 1611446400.0, 1612051200.0, 1612656000.0, 1613260800.0,\n",
            " 1613865600.0, 1614470400.0, 1615075200.0, 1615680000.0, 1616284800.0,\n",
            " 1616889600.0, 1617494400.0, 1618099200.0]\n",
            "Length: 18, dtype: float64\n",
            "Data sampling interval in seconds: 604800.0\n"
          ]
        }
      ]
    },
    {
      "cell_type": "code",
      "metadata": {
        "colab": {
          "base_uri": "https://localhost:8080/",
          "height": 616
        },
        "id": "byeWJKU4jzyp",
        "outputId": "926f4417-91ea-4ea1-c418-08125ccec91d"
      },
      "source": [
        "t_start = pd.DatetimeIndex([start]).astype(np.int64)/1000000000\n",
        "t_end = pd.DatetimeIndex([end]).astype(np.int64)/1000000000\n",
        "print(t_start)\n",
        "print(t_end)\n",
        "print(t_full)\n",
        "# d = (t_full>=start) & (t_full<=end)\n",
        "# t = np.extract([(t_full[0]>=t_start) & (t_full[t_full.size-1]<=t_end)], t_full)\n",
        "# print(t)\n",
        "t = (t_full[1]-t_full[0])/60/60/24\n",
        "print(t)\n",
        "# print(df_Ireland.iloc[35:53,4])\n",
        "ss = pd.array(pd.Index(df_Ireland.iloc[35:53,4]))\n",
        "print(ss)\n",
        "y =t_full.astype(np.int64)\n",
        "print(\"Y=:\",y)\n",
        "x_range = np.arange(0,t_full.size,1)\n",
        "plt.scatter(x_range,y, color='red')\n",
        "plt.show()"
      ],
      "execution_count": 79,
      "outputs": [
        {
          "output_type": "stream",
          "name": "stdout",
          "text": [
            "Float64Index([1607817600.0], dtype='float64')\n",
            "Float64Index([1618704000.0], dtype='float64')\n",
            "<PandasArray>\n",
            "[1607817600.0, 1608422400.0, 1609027200.0, 1609632000.0, 1610236800.0,\n",
            " 1610841600.0, 1611446400.0, 1612051200.0, 1612656000.0, 1613260800.0,\n",
            " 1613865600.0, 1614470400.0, 1615075200.0, 1615680000.0, 1616284800.0,\n",
            " 1616889600.0, 1617494400.0, 1618099200.0]\n",
            "Length: 18, dtype: float64\n",
            "7.0\n",
            "<PandasArray>\n",
            "[            81.301,            128.476,            185.688,\n",
            "            478.774,             866.21,           1077.994,\n",
            "            724.685,            553.049,            416.543,\n",
            " 309.14599999999996,            316.172,            195.725,\n",
            " 167.62099999999998,            155.576,            193.718,\n",
            "            145.539,            118.439,             81.301]\n",
            "Length: 18, dtype: float64\n",
            "Y=: [1607817600 1608422400 1609027200 1609632000 1610236800 1610841600\n",
            " 1611446400 1612051200 1612656000 1613260800 1613865600 1614470400\n",
            " 1615075200 1615680000 1616284800 1616889600 1617494400 1618099200]\n"
          ]
        },
        {
          "output_type": "display_data",
          "data": {
            "image/png": "[encoded data removed]",
            "text/plain": [
              "<Figure size 432x288 with 1 Axes>"
            ]
          },
          "metadata": {
            "needs_background": "light"
          }
        }
      ]
    },
    {
      "cell_type": "code",
      "metadata": {
        "colab": {
          "base_uri": "https://localhost:8080/",
          "height": 839
        },
        "id": "SM1zpgPSWFdJ",
        "outputId": "59503398-1735-450d-c343-bfd9566f690b"
      },
      "source": [
        "stride = 1 \n",
        "lag = 3\n",
        "dd = 1\n",
        "q = 4\n",
        "XX = ss[0:ss.size - q - lag * dd:stride]\n",
        "print(XX)\n",
        "for i in range(1,lag): \n",
        "  X = ss[i*dd:ss.size - q - (lag-i)*dd:stride]\n",
        "  XX=np.column_stack((XX,X))\n",
        "print(XX)\n",
        "yy = ss[lag*dd+q::stride]\n",
        "print(yy)\n",
        "tt = t_full[lag*dd+q::stride]\n",
        "print(tt)\n",
        "from sklearn.model_selection import train_test_split \n",
        "train, test = train_test_split(np.arange(0,yy.size),test_size=0.2)\n",
        "\n",
        "from sklearn.linear_model import Ridge \n",
        "model = Ridge(fit_intercept=False).fit(XX[train], yy[train]) \n",
        "print(model.intercept_, model.coef_)\n",
        "\n",
        "y_pred = model.predict(XX) \n",
        "print(y_pred)\n",
        "plt.scatter(t_full, ss, color='black')\n",
        "plt.scatter(tt, y_pred, color='blue')"
      ],
      "execution_count": 80,
      "outputs": [
        {
          "output_type": "stream",
          "name": "stdout",
          "text": [
            "<PandasArray>\n",
            "[            81.301,            128.476,            185.688,\n",
            "            478.774,             866.21,           1077.994,\n",
            "            724.685,            553.049,            416.543,\n",
            " 309.14599999999996,            316.172]\n",
            "Length: 11, dtype: float64\n",
            "[[  81.301  128.476  185.688]\n",
            " [ 128.476  185.688  478.774]\n",
            " [ 185.688  478.774  866.21 ]\n",
            " [ 478.774  866.21  1077.994]\n",
            " [ 866.21  1077.994  724.685]\n",
            " [1077.994  724.685  553.049]\n",
            " [ 724.685  553.049  416.543]\n",
            " [ 553.049  416.543  309.146]\n",
            " [ 416.543  309.146  316.172]\n",
            " [ 309.146  316.172  195.725]\n",
            " [ 316.172  195.725  167.621]]\n",
            "<PandasArray>\n",
            "[           553.049,            416.543, 309.14599999999996,\n",
            "            316.172,            195.725, 167.62099999999998,\n",
            "            155.576,            193.718,            145.539,\n",
            "            118.439,             81.301]\n",
            "Length: 11, dtype: float64\n",
            "<PandasArray>\n",
            "[1612051200.0, 1612656000.0, 1613260800.0, 1613865600.0, 1614470400.0,\n",
            " 1615075200.0, 1615680000.0, 1616284800.0, 1616889600.0, 1617494400.0,\n",
            " 1618099200.0]\n",
            "Length: 11, dtype: float64\n",
            "0.0 [ 0.17337673 -0.41577019  0.60891177]\n",
            "[ 73.74681958 236.60233815 360.57948683 379.26721021 143.25211366\n",
            " 222.35470008 149.3401633  110.94230302 136.20602442  41.32308633\n",
            "  75.50664686]\n"
          ]
        },
        {
          "output_type": "execute_result",
          "data": {
            "text/plain": [
              "<matplotlib.collections.PathCollection at 0x7fae8288d810>"
            ]
          },
          "metadata": {},
          "execution_count": 80
        },
        {
          "output_type": "display_data",
          "data": {
            "image/png": "[encoded data removed]",
            "text/plain": [
              "<Figure size 432x288 with 1 Axes>"
            ]
          },
          "metadata": {
            "needs_background": "light"
          }
        }
      ]
    },
    {
      "cell_type": "code",
      "metadata": {
        "id": "DyJZ0-SFf6K9"
      },
      "source": [
        ""
      ],
      "execution_count": null,
      "outputs": []
    },
    {
      "cell_type": "code",
      "metadata": {
        "colab": {
          "base_uri": "https://localhost:8080/",
          "height": 644
        },
        "id": "wJvsVj6tAbw6",
        "outputId": "3d978f68-7179-4a75-e240-e2226a84f79b"
      },
      "source": [
        "y_pred = model.predict(XX)\n",
        "# print(XX) \n",
        "# plt.scatter(XX, yy, color='black')\n",
        "plt.scatter(tt, y_pred, color='blue')\n",
        "plt.xlabel('time (days)')\n",
        "plt.ylabel('#bikes')\n",
        "plt.legend(['training data','predictions'],loc='upper right')\n",
        "day=math.floor(24*60*60/dt) # number of samples per day \n",
        "plt.xlim((4*7,4*7+4)) \n",
        "plt.show()"
      ],
      "execution_count": 47,
      "outputs": [
        {
          "output_type": "error",
          "ename": "ValueError",
          "evalue": "ignored",
          "traceback": [
            "\u001b[0;31m---------------------------------------------------------------------------\u001b[0m",
            "\u001b[0;31mValueError\u001b[0m                                Traceback (most recent call last)",
            "\u001b[0;32m<ipython-input-47-c94da3d6b7f4>\u001b[0m in \u001b[0;36m<module>\u001b[0;34m()\u001b[0m\n\u001b[1;32m      2\u001b[0m \u001b[0;31m# print(XX)\u001b[0m\u001b[0;34m\u001b[0m\u001b[0;34m\u001b[0m\u001b[0;34m\u001b[0m\u001b[0m\n\u001b[1;32m      3\u001b[0m \u001b[0;31m# plt.scatter(XX, yy, color='black')\u001b[0m\u001b[0;34m\u001b[0m\u001b[0;34m\u001b[0m\u001b[0;34m\u001b[0m\u001b[0m\n\u001b[0;32m----> 4\u001b[0;31m \u001b[0mplt\u001b[0m\u001b[0;34m.\u001b[0m\u001b[0mscatter\u001b[0m\u001b[0;34m(\u001b[0m\u001b[0mtt\u001b[0m\u001b[0;34m,\u001b[0m \u001b[0my_pred\u001b[0m\u001b[0;34m,\u001b[0m \u001b[0mcolor\u001b[0m\u001b[0;34m=\u001b[0m\u001b[0;34m'blue'\u001b[0m\u001b[0;34m)\u001b[0m\u001b[0;34m\u001b[0m\u001b[0;34m\u001b[0m\u001b[0m\n\u001b[0m\u001b[1;32m      5\u001b[0m \u001b[0mplt\u001b[0m\u001b[0;34m.\u001b[0m\u001b[0mxlabel\u001b[0m\u001b[0;34m(\u001b[0m\u001b[0;34m'time (days)'\u001b[0m\u001b[0;34m)\u001b[0m\u001b[0;34m\u001b[0m\u001b[0;34m\u001b[0m\u001b[0m\n\u001b[1;32m      6\u001b[0m \u001b[0mplt\u001b[0m\u001b[0;34m.\u001b[0m\u001b[0mylabel\u001b[0m\u001b[0;34m(\u001b[0m\u001b[0;34m'#bikes'\u001b[0m\u001b[0;34m)\u001b[0m\u001b[0;34m\u001b[0m\u001b[0;34m\u001b[0m\u001b[0m\n",
            "\u001b[0;32m/usr/local/lib/python3.7/dist-packages/matplotlib/pyplot.py\u001b[0m in \u001b[0;36mscatter\u001b[0;34m(x, y, s, c, marker, cmap, norm, vmin, vmax, alpha, linewidths, verts, edgecolors, plotnonfinite, data, **kwargs)\u001b[0m\n\u001b[1;32m   2814\u001b[0m         \u001b[0mverts\u001b[0m\u001b[0;34m=\u001b[0m\u001b[0mverts\u001b[0m\u001b[0;34m,\u001b[0m \u001b[0medgecolors\u001b[0m\u001b[0;34m=\u001b[0m\u001b[0medgecolors\u001b[0m\u001b[0;34m,\u001b[0m\u001b[0;34m\u001b[0m\u001b[0;34m\u001b[0m\u001b[0m\n\u001b[1;32m   2815\u001b[0m         plotnonfinite=plotnonfinite, **({\"data\": data} if data is not\n\u001b[0;32m-> 2816\u001b[0;31m         None else {}), **kwargs)\n\u001b[0m\u001b[1;32m   2817\u001b[0m     \u001b[0msci\u001b[0m\u001b[0;34m(\u001b[0m\u001b[0m__ret\u001b[0m\u001b[0;34m)\u001b[0m\u001b[0;34m\u001b[0m\u001b[0;34m\u001b[0m\u001b[0m\n\u001b[1;32m   2818\u001b[0m     \u001b[0;32mreturn\u001b[0m \u001b[0m__ret\u001b[0m\u001b[0;34m\u001b[0m\u001b[0;34m\u001b[0m\u001b[0m\n",
            "\u001b[0;32m/usr/local/lib/python3.7/dist-packages/matplotlib/__init__.py\u001b[0m in \u001b[0;36minner\u001b[0;34m(ax, data, *args, **kwargs)\u001b[0m\n\u001b[1;32m   1563\u001b[0m     \u001b[0;32mdef\u001b[0m \u001b[0minner\u001b[0m\u001b[0;34m(\u001b[0m\u001b[0max\u001b[0m\u001b[0;34m,\u001b[0m \u001b[0;34m*\u001b[0m\u001b[0margs\u001b[0m\u001b[0;34m,\u001b[0m \u001b[0mdata\u001b[0m\u001b[0;34m=\u001b[0m\u001b[0;32mNone\u001b[0m\u001b[0;34m,\u001b[0m \u001b[0;34m**\u001b[0m\u001b[0mkwargs\u001b[0m\u001b[0;34m)\u001b[0m\u001b[0;34m:\u001b[0m\u001b[0;34m\u001b[0m\u001b[0;34m\u001b[0m\u001b[0m\n\u001b[1;32m   1564\u001b[0m         \u001b[0;32mif\u001b[0m \u001b[0mdata\u001b[0m \u001b[0;32mis\u001b[0m \u001b[0;32mNone\u001b[0m\u001b[0;34m:\u001b[0m\u001b[0;34m\u001b[0m\u001b[0;34m\u001b[0m\u001b[0m\n\u001b[0;32m-> 1565\u001b[0;31m             \u001b[0;32mreturn\u001b[0m \u001b[0mfunc\u001b[0m\u001b[0;34m(\u001b[0m\u001b[0max\u001b[0m\u001b[0;34m,\u001b[0m \u001b[0;34m*\u001b[0m\u001b[0mmap\u001b[0m\u001b[0;34m(\u001b[0m\u001b[0msanitize_sequence\u001b[0m\u001b[0;34m,\u001b[0m \u001b[0margs\u001b[0m\u001b[0;34m)\u001b[0m\u001b[0;34m,\u001b[0m \u001b[0;34m**\u001b[0m\u001b[0mkwargs\u001b[0m\u001b[0;34m)\u001b[0m\u001b[0;34m\u001b[0m\u001b[0;34m\u001b[0m\u001b[0m\n\u001b[0m\u001b[1;32m   1566\u001b[0m \u001b[0;34m\u001b[0m\u001b[0m\n\u001b[1;32m   1567\u001b[0m         \u001b[0mbound\u001b[0m \u001b[0;34m=\u001b[0m \u001b[0mnew_sig\u001b[0m\u001b[0;34m.\u001b[0m\u001b[0mbind\u001b[0m\u001b[0;34m(\u001b[0m\u001b[0max\u001b[0m\u001b[0;34m,\u001b[0m \u001b[0;34m*\u001b[0m\u001b[0margs\u001b[0m\u001b[0;34m,\u001b[0m \u001b[0;34m**\u001b[0m\u001b[0mkwargs\u001b[0m\u001b[0;34m)\u001b[0m\u001b[0;34m\u001b[0m\u001b[0;34m\u001b[0m\u001b[0m\n",
            "\u001b[0;32m/usr/local/lib/python3.7/dist-packages/matplotlib/cbook/deprecation.py\u001b[0m in \u001b[0;36mwrapper\u001b[0;34m(*args, **kwargs)\u001b[0m\n\u001b[1;32m    356\u001b[0m                 \u001b[0;34mf\"%(removal)s.  If any parameter follows {name!r}, they \"\u001b[0m\u001b[0;34m\u001b[0m\u001b[0;34m\u001b[0m\u001b[0m\n\u001b[1;32m    357\u001b[0m                 f\"should be pass as keyword, not positionally.\")\n\u001b[0;32m--> 358\u001b[0;31m         \u001b[0;32mreturn\u001b[0m \u001b[0mfunc\u001b[0m\u001b[0;34m(\u001b[0m\u001b[0;34m*\u001b[0m\u001b[0margs\u001b[0m\u001b[0;34m,\u001b[0m \u001b[0;34m**\u001b[0m\u001b[0mkwargs\u001b[0m\u001b[0;34m)\u001b[0m\u001b[0;34m\u001b[0m\u001b[0;34m\u001b[0m\u001b[0m\n\u001b[0m\u001b[1;32m    359\u001b[0m \u001b[0;34m\u001b[0m\u001b[0m\n\u001b[1;32m    360\u001b[0m     \u001b[0;32mreturn\u001b[0m \u001b[0mwrapper\u001b[0m\u001b[0;34m\u001b[0m\u001b[0;34m\u001b[0m\u001b[0m\n",
            "\u001b[0;32m/usr/local/lib/python3.7/dist-packages/matplotlib/axes/_axes.py\u001b[0m in \u001b[0;36mscatter\u001b[0;34m(self, x, y, s, c, marker, cmap, norm, vmin, vmax, alpha, linewidths, verts, edgecolors, plotnonfinite, **kwargs)\u001b[0m\n\u001b[1;32m   4389\u001b[0m         \u001b[0my\u001b[0m \u001b[0;34m=\u001b[0m \u001b[0mnp\u001b[0m\u001b[0;34m.\u001b[0m\u001b[0mma\u001b[0m\u001b[0;34m.\u001b[0m\u001b[0mravel\u001b[0m\u001b[0;34m(\u001b[0m\u001b[0my\u001b[0m\u001b[0;34m)\u001b[0m\u001b[0;34m\u001b[0m\u001b[0;34m\u001b[0m\u001b[0m\n\u001b[1;32m   4390\u001b[0m         \u001b[0;32mif\u001b[0m \u001b[0mx\u001b[0m\u001b[0;34m.\u001b[0m\u001b[0msize\u001b[0m \u001b[0;34m!=\u001b[0m \u001b[0my\u001b[0m\u001b[0;34m.\u001b[0m\u001b[0msize\u001b[0m\u001b[0;34m:\u001b[0m\u001b[0;34m\u001b[0m\u001b[0;34m\u001b[0m\u001b[0m\n\u001b[0;32m-> 4391\u001b[0;31m             \u001b[0;32mraise\u001b[0m \u001b[0mValueError\u001b[0m\u001b[0;34m(\u001b[0m\u001b[0;34m\"x and y must be the same size\"\u001b[0m\u001b[0;34m)\u001b[0m\u001b[0;34m\u001b[0m\u001b[0;34m\u001b[0m\u001b[0m\n\u001b[0m\u001b[1;32m   4392\u001b[0m \u001b[0;34m\u001b[0m\u001b[0m\n\u001b[1;32m   4393\u001b[0m         \u001b[0;32mif\u001b[0m \u001b[0ms\u001b[0m \u001b[0;32mis\u001b[0m \u001b[0;32mNone\u001b[0m\u001b[0;34m:\u001b[0m\u001b[0;34m\u001b[0m\u001b[0;34m\u001b[0m\u001b[0m\n",
            "\u001b[0;31mValueError\u001b[0m: x and y must be the same size"
          ]
        },
        {
          "output_type": "display_data",
          "data": {
            "image/png": "[encoded data removed]",
            "text/plain": [
              "<Figure size 432x288 with 1 Axes>"
            ]
          },
          "metadata": {
            "needs_background": "light"
          }
        }
      ]
    }
  ]
}