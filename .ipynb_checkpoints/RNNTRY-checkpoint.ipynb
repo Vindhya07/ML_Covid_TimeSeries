{
 "cells": [
  {
   "cell_type": "code",
   "execution_count": 3,
   "metadata": {},
   "outputs": [],
   "source": [
    "import numpy as np \n",
    "def generate_time_series(batch_size, n_steps):\n",
    "    freq1, freq2, offsets1, offsets2 = np.random.rand(4, batch_size, 1)\n",
    "    time = np.linspace(0,1,n_steps)\n",
    "    series = 0.5 * np.sin((time - offsets1) * (freq1 * 10 + 10))\n",
    "    series += 0.2 * np.sin((time - offsets2) * (freq2 * 20 + 20))\n",
    "    series += 0.1 * (np.random.rand(batch_size, n_steps) - 0.5)\n",
    "    return series[..., np.newaxis].astype(np.float32)"
   ]
  },
  {
   "cell_type": "code",
   "execution_count": 10,
   "metadata": {},
   "outputs": [],
   "source": [
    "n_steps = 50\n",
    "series = generate_time_series(10000, n_steps+1)\n",
    "X_train, y_train = series[:7000, :n_steps], series[:7000, -1]\n",
    "X_valid, y_valid = series[7000:9000, :n_steps], series[7000:9000, -1]\n",
    "X_test, y_test = series[9000:, :n_steps], series[9000:, -1]"
   ]
  },
  {
   "cell_type": "code",
   "execution_count": 12,
   "metadata": {},
   "outputs": [
    {
     "data": {
      "text/plain": [
       "array([[-0.527316  ],\n",
       "       [-0.4389467 ],\n",
       "       [-0.17400993],\n",
       "       ...,\n",
       "       [-0.6899405 ],\n",
       "       [ 0.60035974],\n",
       "       [ 0.6926471 ]], dtype=float32)"
      ]
     },
     "execution_count": 12,
     "metadata": {},
     "output_type": "execute_result"
    }
   ],
   "source": [
    "y_train"
   ]
  },
  {
   "cell_type": "code",
   "execution_count": 15,
   "metadata": {},
   "outputs": [
    {
     "data": {
      "text/plain": [
       "0.02106037"
      ]
     },
     "execution_count": 15,
     "metadata": {},
     "output_type": "execute_result"
    }
   ],
   "source": [
    "import keras\n",
    "y_pred = X_valid[:,-1]\n",
    "np.mean(keras.losses.mean_squared_error(y_valid, y_pred))"
   ]
  },
  {
   "cell_type": "code",
   "execution_count": 16,
   "metadata": {},
   "outputs": [],
   "source": [
    "model = keras.models.Sequential([keras.layers.Flatten(input_shape=[50,1]), keras.layers.Dense(1)])"
   ]
  },
  {
   "cell_type": "code",
   "execution_count": 18,
   "metadata": {},
   "outputs": [],
   "source": [
    "model.compile(loss=\"mean_squared_error\", optimizer=\"adam\")"
   ]
  },
  {
   "cell_type": "code",
   "execution_count": 19,
   "metadata": {},
   "outputs": [
    {
     "name": "stdout",
     "output_type": "stream",
     "text": [
      "Epoch 1/20\n",
      "219/219 [==============================] - 1s 1ms/step - loss: 0.1225 - val_loss: 0.0532\n",
      "Epoch 2/20\n",
      "219/219 [==============================] - 0s 1ms/step - loss: 0.0381 - val_loss: 0.0293\n",
      "Epoch 3/20\n",
      "219/219 [==============================] - 0s 1ms/step - loss: 0.0219 - val_loss: 0.0185\n",
      "Epoch 4/20\n",
      "219/219 [==============================] - 0s 1ms/step - loss: 0.0146 - val_loss: 0.0134\n",
      "Epoch 5/20\n",
      "219/219 [==============================] - 0s 1ms/step - loss: 0.0111 - val_loss: 0.0106\n",
      "Epoch 6/20\n",
      "219/219 [==============================] - 0s 1ms/step - loss: 0.0092 - val_loss: 0.0089\n",
      "Epoch 7/20\n",
      "219/219 [==============================] - 0s 1ms/step - loss: 0.0079 - val_loss: 0.0077\n",
      "Epoch 8/20\n",
      "219/219 [==============================] - 0s 1ms/step - loss: 0.0069 - val_loss: 0.0067\n",
      "Epoch 9/20\n",
      "219/219 [==============================] - 0s 1ms/step - loss: 0.0061 - val_loss: 0.0060\n",
      "Epoch 10/20\n",
      "219/219 [==============================] - 0s 1ms/step - loss: 0.0055 - val_loss: 0.0054\n",
      "Epoch 11/20\n",
      "219/219 [==============================] - 0s 1ms/step - loss: 0.0050 - val_loss: 0.0049\n",
      "Epoch 12/20\n",
      "219/219 [==============================] - 0s 1ms/step - loss: 0.0047 - val_loss: 0.0046\n",
      "Epoch 13/20\n",
      "219/219 [==============================] - 0s 2ms/step - loss: 0.0043 - val_loss: 0.0044\n",
      "Epoch 14/20\n",
      "219/219 [==============================] - 0s 1ms/step - loss: 0.0042 - val_loss: 0.0042\n",
      "Epoch 15/20\n",
      "219/219 [==============================] - 0s 1ms/step - loss: 0.0040 - val_loss: 0.0040\n",
      "Epoch 16/20\n",
      "219/219 [==============================] - 0s 1ms/step - loss: 0.0039 - val_loss: 0.0038\n",
      "Epoch 17/20\n",
      "219/219 [==============================] - 0s 1ms/step - loss: 0.0038 - val_loss: 0.0038\n",
      "Epoch 18/20\n",
      "219/219 [==============================] - 0s 1ms/step - loss: 0.0037 - val_loss: 0.0038\n",
      "Epoch 19/20\n",
      "219/219 [==============================] - 0s 1ms/step - loss: 0.0036 - val_loss: 0.0037\n",
      "Epoch 20/20\n",
      "219/219 [==============================] - 0s 1ms/step - loss: 0.0036 - val_loss: 0.0036\n"
     ]
    }
   ],
   "source": [
    "fitting = model.fit(X_train, y_train, epochs=20, validation_data=(X_valid, y_valid))"
   ]
  },
  {
   "cell_type": "code",
   "execution_count": 23,
   "metadata": {},
   "outputs": [
    {
     "name": "stdout",
     "output_type": "stream",
     "text": [
      "63/63 [==============================] - 0s 742us/step - loss: 0.0036\n"
     ]
    }
   ],
   "source": [
    "mse = model.evaluate(X_valid, y_valid)"
   ]
  },
  {
   "cell_type": "code",
   "execution_count": 26,
   "metadata": {},
   "outputs": [],
   "source": [
    "model1 = keras.models.Sequential([keras.layers.SimpleRNN(1, input_shape=[None,1])])\n",
    "model1.compile(loss=\"mean_squared_error\", optimizer=\"adam\")"
   ]
  },
  {
   "cell_type": "code",
   "execution_count": 27,
   "metadata": {},
   "outputs": [
    {
     "name": "stdout",
     "output_type": "stream",
     "text": [
      "Epoch 1/20\n",
      "219/219 [==============================] - 2s 7ms/step - loss: 0.2359 - val_loss: 0.2092\n",
      "Epoch 2/20\n",
      "219/219 [==============================] - 1s 6ms/step - loss: 0.1970 - val_loss: 0.1752\n",
      "Epoch 3/20\n",
      "219/219 [==============================] - 1s 6ms/step - loss: 0.1652 - val_loss: 0.1469\n",
      "Epoch 4/20\n",
      "219/219 [==============================] - 1s 6ms/step - loss: 0.1400 - val_loss: 0.1245\n",
      "Epoch 5/20\n",
      "219/219 [==============================] - 1s 6ms/step - loss: 0.1179 - val_loss: 0.1030\n",
      "Epoch 6/20\n",
      "219/219 [==============================] - 1s 6ms/step - loss: 0.0960 - val_loss: 0.0830\n",
      "Epoch 7/20\n",
      "219/219 [==============================] - 2s 7ms/step - loss: 0.0766 - val_loss: 0.0659\n",
      "Epoch 8/20\n",
      "219/219 [==============================] - 2s 7ms/step - loss: 0.0598 - val_loss: 0.0511\n",
      "Epoch 9/20\n",
      "219/219 [==============================] - 1s 7ms/step - loss: 0.0456 - val_loss: 0.0387\n",
      "Epoch 10/20\n",
      "219/219 [==============================] - 1s 7ms/step - loss: 0.0340 - val_loss: 0.0290\n",
      "Epoch 11/20\n",
      "219/219 [==============================] - 2s 7ms/step - loss: 0.0252 - val_loss: 0.0219\n",
      "Epoch 12/20\n",
      "219/219 [==============================] - 1s 7ms/step - loss: 0.0191 - val_loss: 0.0172\n",
      "Epoch 13/20\n",
      "219/219 [==============================] - 2s 7ms/step - loss: 0.0154 - val_loss: 0.0146\n",
      "Epoch 14/20\n",
      "219/219 [==============================] - 1s 7ms/step - loss: 0.0133 - val_loss: 0.0132\n",
      "Epoch 15/20\n",
      "219/219 [==============================] - 2s 7ms/step - loss: 0.0123 - val_loss: 0.0126\n",
      "Epoch 16/20\n",
      "219/219 [==============================] - 1s 7ms/step - loss: 0.0119 - val_loss: 0.0123\n",
      "Epoch 17/20\n",
      "219/219 [==============================] - 2s 7ms/step - loss: 0.0117 - val_loss: 0.0122\n",
      "Epoch 18/20\n",
      "219/219 [==============================] - 2s 7ms/step - loss: 0.0116 - val_loss: 0.0121\n",
      "Epoch 19/20\n",
      "219/219 [==============================] - 2s 7ms/step - loss: 0.0115 - val_loss: 0.0120\n",
      "Epoch 20/20\n",
      "219/219 [==============================] - 2s 7ms/step - loss: 0.0114 - val_loss: 0.0119\n"
     ]
    }
   ],
   "source": [
    "fitting1 = model1.fit(X_train, y_train, epochs=20, validation_data=(X_valid, y_valid))"
   ]
  },
  {
   "cell_type": "code",
   "execution_count": 28,
   "metadata": {},
   "outputs": [
    {
     "name": "stdout",
     "output_type": "stream",
     "text": [
      "63/63 [==============================] - 0s 2ms/step - loss: 0.0119\n"
     ]
    }
   ],
   "source": [
    "mse1 = model1.evaluate(X_valid, y_valid)"
   ]
  },
  {
   "cell_type": "code",
   "execution_count": 29,
   "metadata": {},
   "outputs": [],
   "source": [
    "model2 = keras.models.Sequential([keras.layers.SimpleRNN(20, return_sequences=True, input_shape=[None, 1]),\n",
    "                                  keras.layers.SimpleRNN(20, return_sequences=True),\n",
    "                                  keras.layers.SimpleRNN(1)])\n",
    "model2.compile(loss=\"mean_squared_error\", optimizer=\"adam\")"
   ]
  },
  {
   "cell_type": "code",
   "execution_count": 31,
   "metadata": {},
   "outputs": [
    {
     "name": "stdout",
     "output_type": "stream",
     "text": [
      "Epoch 1/20\n",
      "219/219 [==============================] - 6s 19ms/step - loss: 0.0269 - val_loss: 0.0059\n",
      "Epoch 2/20\n",
      "219/219 [==============================] - 4s 19ms/step - loss: 0.0052 - val_loss: 0.0045\n",
      "Epoch 3/20\n",
      "219/219 [==============================] - 5s 23ms/step - loss: 0.0043 - val_loss: 0.0036\n",
      "Epoch 4/20\n",
      "219/219 [==============================] - 5s 23ms/step - loss: 0.0038 - val_loss: 0.0033\n",
      "Epoch 5/20\n",
      "219/219 [==============================] - 5s 24ms/step - loss: 0.0038 - val_loss: 0.0042\n",
      "Epoch 6/20\n",
      "219/219 [==============================] - 5s 24ms/step - loss: 0.0036 - val_loss: 0.0033\n",
      "Epoch 7/20\n",
      "219/219 [==============================] - 5s 25ms/step - loss: 0.0035 - val_loss: 0.0032\n",
      "Epoch 8/20\n",
      "219/219 [==============================] - 5s 25ms/step - loss: 0.0033 - val_loss: 0.0031\n",
      "Epoch 9/20\n",
      "219/219 [==============================] - 5s 24ms/step - loss: 0.0035 - val_loss: 0.0030s: 0.0\n",
      "Epoch 10/20\n",
      "219/219 [==============================] - 6s 26ms/step - loss: 0.0033 - val_loss: 0.0031\n",
      "Epoch 11/20\n",
      "219/219 [==============================] - 5s 24ms/step - loss: 0.0031 - val_loss: 0.0030\n",
      "Epoch 12/20\n",
      "219/219 [==============================] - 5s 24ms/step - loss: 0.0032 - val_loss: 0.0030\n",
      "Epoch 13/20\n",
      "219/219 [==============================] - 5s 24ms/step - loss: 0.0031 - val_loss: 0.0030\n",
      "Epoch 14/20\n",
      "219/219 [==============================] - 5s 24ms/step - loss: 0.0031 - val_loss: 0.0029\n",
      "Epoch 15/20\n",
      "219/219 [==============================] - 5s 25ms/step - loss: 0.0030 - val_loss: 0.0033\n",
      "Epoch 16/20\n",
      "219/219 [==============================] - 5s 25ms/step - loss: 0.0031 - val_loss: 0.0029\n",
      "Epoch 17/20\n",
      "219/219 [==============================] - 5s 24ms/step - loss: 0.0030 - val_loss: 0.0029\n",
      "Epoch 18/20\n",
      "219/219 [==============================] - 5s 25ms/step - loss: 0.0030 - val_loss: 0.0029\n",
      "Epoch 19/20\n",
      "219/219 [==============================] - 5s 25ms/step - loss: 0.0030 - val_loss: 0.0028\n",
      "Epoch 20/20\n",
      "219/219 [==============================] - 5s 24ms/step - loss: 0.0030 - val_loss: 0.0031\n"
     ]
    }
   ],
   "source": [
    "fitting2 = model2.fit(X_train, y_train, epochs=20, validation_data=(X_valid, y_valid))\n"
   ]
  },
  {
   "cell_type": "code",
   "execution_count": 32,
   "metadata": {},
   "outputs": [
    {
     "name": "stdout",
     "output_type": "stream",
     "text": [
      "63/63 [==============================] - 0s 6ms/step - loss: 0.0031\n"
     ]
    },
    {
     "data": {
      "text/plain": [
       "0.003065339522436261"
      ]
     },
     "execution_count": 32,
     "metadata": {},
     "output_type": "execute_result"
    }
   ],
   "source": [
    "model2.evaluate(X_valid, y_valid)"
   ]
  },
  {
   "cell_type": "code",
   "execution_count": 33,
   "metadata": {},
   "outputs": [],
   "source": [
    "model3 = keras.models.Sequential([keras.layers.SimpleRNN(20, return_sequences=True, input_shape=[None,1]),\n",
    "                                  keras.layers.SimpleRNN(20),\n",
    "                                  keras.layers.Dense(1)])\n",
    "model3.compile(loss=\"mean_squared_error\", optimizer=\"adam\")"
   ]
  },
  {
   "cell_type": "code",
   "execution_count": 35,
   "metadata": {},
   "outputs": [
    {
     "name": "stdout",
     "output_type": "stream",
     "text": [
      "Epoch 1/20\n",
      "219/219 [==============================] - 4s 15ms/step - loss: 0.0652 - val_loss: 0.0063\n",
      "Epoch 2/20\n",
      "219/219 [==============================] - 3s 15ms/step - loss: 0.0046 - val_loss: 0.0038\n",
      "Epoch 3/20\n",
      "219/219 [==============================] - 4s 16ms/step - loss: 0.0036 - val_loss: 0.0035\n",
      "Epoch 4/20\n",
      "219/219 [==============================] - 4s 17ms/step - loss: 0.0033 - val_loss: 0.0033\n",
      "Epoch 5/20\n",
      "219/219 [==============================] - 4s 18ms/step - loss: 0.0032 - val_loss: 0.0031\n",
      "Epoch 6/20\n",
      "219/219 [==============================] - 4s 18ms/step - loss: 0.0031 - val_loss: 0.0031\n",
      "Epoch 7/20\n",
      "219/219 [==============================] - 4s 18ms/step - loss: 0.0030 - val_loss: 0.0030\n",
      "Epoch 8/20\n",
      "219/219 [==============================] - 4s 18ms/step - loss: 0.0030 - val_loss: 0.0030\n",
      "Epoch 9/20\n",
      "219/219 [==============================] - 4s 18ms/step - loss: 0.0030 - val_loss: 0.0031\n",
      "Epoch 10/20\n",
      "219/219 [==============================] - 4s 17ms/step - loss: 0.0030 - val_loss: 0.0030\n",
      "Epoch 11/20\n",
      "219/219 [==============================] - 4s 18ms/step - loss: 0.0030 - val_loss: 0.0031\n",
      "Epoch 12/20\n",
      "219/219 [==============================] - 4s 18ms/step - loss: 0.0029 - val_loss: 0.0030\n",
      "Epoch 13/20\n",
      "219/219 [==============================] - 4s 17ms/step - loss: 0.0029 - val_loss: 0.0036\n",
      "Epoch 14/20\n",
      "219/219 [==============================] - 4s 18ms/step - loss: 0.0028 - val_loss: 0.0031\n",
      "Epoch 15/20\n",
      "219/219 [==============================] - 4s 18ms/step - loss: 0.0029 - val_loss: 0.0030\n",
      "Epoch 16/20\n",
      "219/219 [==============================] - 4s 18ms/step - loss: 0.0028 - val_loss: 0.0029\n",
      "Epoch 17/20\n",
      "219/219 [==============================] - 4s 18ms/step - loss: 0.0029 - val_loss: 0.0031\n",
      "Epoch 18/20\n",
      "219/219 [==============================] - 4s 18ms/step - loss: 0.0029 - val_loss: 0.0028\n",
      "Epoch 19/20\n",
      "219/219 [==============================] - 4s 18ms/step - loss: 0.0028 - val_loss: 0.0029\n",
      "Epoch 20/20\n",
      "219/219 [==============================] - 4s 18ms/step - loss: 0.0027 - val_loss: 0.0026\n",
      "63/63 [==============================] - 0s 5ms/step - loss: 0.0026\n"
     ]
    },
    {
     "data": {
      "text/plain": [
       "0.002644500695168972"
      ]
     },
     "execution_count": 35,
     "metadata": {},
     "output_type": "execute_result"
    }
   ],
   "source": [
    "model3.fit(X_train, y_train, epochs=20, validation_data=(X_valid, y_valid))\n",
    "model3.evaluate(X_valid, y_valid)"
   ]
  },
  {
   "cell_type": "raw",
   "metadata": {},
   "source": []
  },
  {
   "cell_type": "code",
   "execution_count": 39,
   "metadata": {},
   "outputs": [],
   "source": [
    "series = generate_time_series(1, n_steps + 10)\n",
    "X_new, Y_new = series[:, :n_steps], series[:, n_steps:]\n",
    "X = X_new\n",
    "for step_ahead in range(10):\n",
    "    y_pred_one = model3.predict(X[:, step_ahead:])[:, np.newaxis, :]\n",
    "    X = np.concatenate([X, y_pred_one], axis=1)\n",
    "Y_pred = X[:, n_steps:]"
   ]
  },
  {
   "cell_type": "code",
   "execution_count": 41,
   "metadata": {},
   "outputs": [],
   "source": [
    "series = generate_time_series(10000, n_steps + 10)\n",
    "X_train, Y_train = series[:7000, :n_steps], series[:7000, -10:, 0]\n",
    "X_valid, Y_valid = series[7000:9000, :n_steps], series[7000:9000, -10:, 0]\n",
    "X_test, Y_test = series[9000:, :n_steps], series[9000:, -10:, 0]"
   ]
  },
  {
   "cell_type": "code",
   "execution_count": 44,
   "metadata": {},
   "outputs": [
    {
     "name": "stdout",
     "output_type": "stream",
     "text": [
      "Epoch 1/20\n",
      "219/219 [==============================] - 4s 15ms/step - loss: 0.0639 - val_loss: 0.0309\n",
      "Epoch 2/20\n",
      "219/219 [==============================] - 3s 15ms/step - loss: 0.0223 - val_loss: 0.0188\n",
      "Epoch 3/20\n",
      "219/219 [==============================] - 3s 15ms/step - loss: 0.0166 - val_loss: 0.0140\n",
      "Epoch 4/20\n",
      "219/219 [==============================] - 4s 17ms/step - loss: 0.0144 - val_loss: 0.0132\n",
      "Epoch 5/20\n",
      "219/219 [==============================] - 4s 18ms/step - loss: 0.0133 - val_loss: 0.0162\n",
      "Epoch 6/20\n",
      "219/219 [==============================] - 4s 18ms/step - loss: 0.0130 - val_loss: 0.0167\n",
      "Epoch 7/20\n",
      "219/219 [==============================] - 4s 18ms/step - loss: 0.0122 - val_loss: 0.0124\n",
      "Epoch 8/20\n",
      "219/219 [==============================] - 4s 18ms/step - loss: 0.0115 - val_loss: 0.0105\n",
      "Epoch 9/20\n",
      "219/219 [==============================] - 4s 17ms/step - loss: 0.0110 - val_loss: 0.0108\n",
      "Epoch 10/20\n",
      "219/219 [==============================] - 4s 17ms/step - loss: 0.0111 - val_loss: 0.0122\n",
      "Epoch 11/20\n",
      "219/219 [==============================] - 4s 18ms/step - loss: 0.0108 - val_loss: 0.0099\n",
      "Epoch 12/20\n",
      "219/219 [==============================] - 4s 18ms/step - loss: 0.0108 - val_loss: 0.0096\n",
      "Epoch 13/20\n",
      "219/219 [==============================] - 4s 18ms/step - loss: 0.0100 - val_loss: 0.0096\n",
      "Epoch 14/20\n",
      "219/219 [==============================] - 4s 18ms/step - loss: 0.0100 - val_loss: 0.0110\n",
      "Epoch 15/20\n",
      "219/219 [==============================] - 4s 18ms/step - loss: 0.0099 - val_loss: 0.0088\n",
      "Epoch 16/20\n",
      "219/219 [==============================] - 4s 18ms/step - loss: 0.0098 - val_loss: 0.0088\n",
      "Epoch 17/20\n",
      "219/219 [==============================] - 4s 18ms/step - loss: 0.0097 - val_loss: 0.0098\n",
      "Epoch 18/20\n",
      "219/219 [==============================] - 4s 18ms/step - loss: 0.0096 - val_loss: 0.0086\n",
      "Epoch 19/20\n",
      "219/219 [==============================] - 4s 18ms/step - loss: 0.0096 - val_loss: 0.0100\n",
      "Epoch 20/20\n",
      "219/219 [==============================] - 4s 18ms/step - loss: 0.0092 - val_loss: 0.0091\n"
     ]
    },
    {
     "data": {
      "text/plain": [
       "<keras.callbacks.History at 0x1a05182a438>"
      ]
     },
     "execution_count": 44,
     "metadata": {},
     "output_type": "execute_result"
    }
   ],
   "source": [
    "model4 = keras.models.Sequential([keras.layers.SimpleRNN(20, return_sequences=True, input_shape=[None, 1]),\n",
    "                                  keras.layers.SimpleRNN(20),\n",
    "                                  keras.layers.Dense(10)])\n",
    "model4.compile(loss=\"mean_squared_error\", optimizer=\"adam\")\n",
    "model4.fit(X_train, Y_train, epochs=20, validation_data=(X_valid, Y_valid))"
   ]
  },
  {
   "cell_type": "code",
   "execution_count": 47,
   "metadata": {},
   "outputs": [
    {
     "data": {
      "text/plain": [
       "array([[-0.08779511, -0.08370079, -0.06285863, -0.1905867 , -0.12093218,\n",
       "        -0.00203504,  0.11235696,  0.33050442,  0.48189232,  0.6536271 ]],\n",
       "      dtype=float32)"
      ]
     },
     "execution_count": 47,
     "metadata": {},
     "output_type": "execute_result"
    }
   ],
   "source": [
    "Y_pred = model4.predict(X_new)\n",
    "Y_pred"
   ]
  },
  {
   "cell_type": "code",
   "execution_count": null,
   "metadata": {},
   "outputs": [],
   "source": []
  }
 ],
 "metadata": {
  "kernelspec": {
   "display_name": "Python 3",
   "language": "python",
   "name": "python3"
  },
  "language_info": {
   "codemirror_mode": {
    "name": "ipython",
    "version": 3
   },
   "file_extension": ".py",
   "mimetype": "text/x-python",
   "name": "python",
   "nbconvert_exporter": "python",
   "pygments_lexer": "ipython3",
   "version": "3.7.3"
  }
 },
 "nbformat": 4,
 "nbformat_minor": 2
}
